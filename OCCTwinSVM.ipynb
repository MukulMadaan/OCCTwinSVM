{
  "nbformat": 4,
  "nbformat_minor": 0,
  "metadata": {
    "colab": {
      "name": "OCCTwinSVM.ipynb",
      "provenance": [],
      "authorship_tag": "ABX9TyMjOk+0SMD92o6a0Txl3EMK",
      "include_colab_link": true
    },
    "kernelspec": {
      "display_name": "Python 3",
      "name": "python3"
    },
    "language_info": {
      "name": "python"
    }
  },
  "cells": [
    {
      "cell_type": "markdown",
      "metadata": {
        "id": "view-in-github",
        "colab_type": "text"
      },
      "source": [
        "<a href=\"https://colab.research.google.com/github/MukulMadaan/OCCTwinSVM/blob/main/OCCTwinSVM.ipynb\" target=\"_parent\"><img src=\"https://colab.research.google.com/assets/colab-badge.svg\" alt=\"Open In Colab\"/></a>"
      ]
    },
    {
      "cell_type": "code",
      "metadata": {
        "id": "BGiWGkgsIZs4"
      },
      "source": [
        "!pip install LibTwinSVM"
      ],
      "execution_count": null,
      "outputs": []
    },
    {
      "cell_type": "code",
      "metadata": {
        "id": "ecWqVDjxNzxV"
      },
      "source": [
        "from google.colab import drive\n",
        "drive.mount('/content/drive')"
      ],
      "execution_count": null,
      "outputs": []
    },
    {
      "cell_type": "code",
      "metadata": {
        "id": "apkxLbwsO3y8"
      },
      "source": [
        "from libtsvm.preprocess import DataReader\n",
        "from libtsvm.estimators import TSVM\n",
        "from libtsvm.model_selection import Validator\n",
        "from libtsvm.model_selection import Validator, grid_search, save_result"
      ],
      "execution_count": null,
      "outputs": []
    },
    {
      "cell_type": "code",
      "metadata": {
        "id": "o65YDCmpOcjS"
      },
      "source": [
        "data_path = '/content/drive/My Drive/hepatitis.csv' \n",
        "sep_char = ',' # separtor character of the CSV file\n",
        "header = True # Whether the dataset has header names.\n",
        " \n",
        "dataset = DataReader(data_path, sep_char, header) \n",
        " \n",
        "shuffle_data = True\n",
        "normalize_data = False\n",
        " \n",
        "dataset.load_data(shuffle_data, normalize_data)\n",
        "X, y, file_name = dataset.get_data()\n",
        " \n",
        "# Step 2: Choose a TSVM-based estimator\n",
        "kernel = 'linear'\n",
        "tsvm_clf = TSVM(kernel = kernel) #Object Created\n",
        " \n",
        "# Step 3: Evaluate the estimator using train/test split\n",
        "eval_method = 't_t_split' # Train/Test split\n",
        "test_set_size = int(0.30 * X.shape[0])# 30% of samples\n",
        " \n",
        "val = Validator(X, y, (eval_method, test_set_size), tsvm_clf)\n",
        "eval_func = val.choose_validator()\n",
        " \n",
        "# Hyper-parameters of the classifier\n",
        "h_params =  {'C1': 2**-5, 'C2': 2**-1}\n",
        " \n",
        "acc, std, full_report = eval_func(h_params)\n",
        "print(\"Accuracy: %.2f\" % acc)\n",
        "print(full_report)"
      ],
      "execution_count": null,
      "outputs": []
    },
    {
      "cell_type": "code",
      "metadata": {
        "id": "WuuEcXvKO891"
      },
      "source": [
        "# Step 1: Load your dataset\n",
        "data_path = '/content/drive/My Drive/hepatits.csv'\n",
        "sep_char = ',' # separtor character of the CSV file\n",
        "header = True # Whether the dataset has header names.\n",
        " \n",
        "dataset = DataReader(data_path, sep_char, header)\n",
        " \n",
        "shuffle_data = True\n",
        "normalize_data = False\n",
        " \n",
        "dataset.load_data(True, False)\n",
        "X, y, _ = dataset.get_data()\n",
        "# Step 2: Choose a TSVM-based estimator\n",
        "tsvm_clf = TSVM(kernel='linear')\n",
        " \n",
        "eval_method = 't_t_split' # Train/Test split\n",
        "test_set_size = int(0.30 * X.shape[0])# 30% of samples\n",
        " \n",
        "# Step 3: Choose an evaluation method.\n",
        "val = Validator(X, y, (eval_method, test_set_size), tsvm_clf) # 5-fold cross-validation\n",
        "eval_method = val.choose_validator()\n",
        " \n",
        "# Step 4: Specify range of each hyper-parameter for a TSVM-based estimator.\n",
        "params = {'C1': (-5, 5), 'C2': (-5, 5), 'gamma': (-5, 5)}\n",
        " \n",
        "best_acc, best_acc_std, opt_params, clf_results = grid_search(eval_method, params)\n",
        " \n",
        "print(\"Best accuracy: %.2f+-%.2f | Optimal parameters: %s\" % (best_acc, best_acc_std,\n",
        "                                                                                  str(opt_params)))\n"
      ],
      "execution_count": null,
      "outputs": []
    },
    {
      "cell_type": "code",
      "metadata": {
        "id": "7BO0Z1akqZM7"
      },
      "source": [
        "print(clf_results)"
      ],
      "execution_count": null,
      "outputs": []
    }
  ]
}